{
 "cells": [
  {
   "cell_type": "code",
   "execution_count": 1,
   "metadata": {},
   "outputs": [],
   "source": [
    "import sys"
   ]
  },
  {
   "cell_type": "code",
   "execution_count": 2,
   "metadata": {},
   "outputs": [
    {
     "data": {
      "text/plain": [
       "'3.10.4 (main, Apr  3 2023, 22:35:52) [GCC 9.4.0]'"
      ]
     },
     "execution_count": 2,
     "metadata": {},
     "output_type": "execute_result"
    }
   ],
   "source": [
    "sys.version"
   ]
  },
  {
   "cell_type": "code",
   "execution_count": 4,
   "metadata": {},
   "outputs": [
    {
     "name": "stdout",
     "output_type": "stream",
     "text": [
      "입력한 id: 87652877\n",
      "암호화해 저장된 id: 78101743\n",
      "로그인 성공: False\n"
     ]
    }
   ],
   "source": [
    "orgPwd = int(input('ID로 사용할 여덟자리의 정수를 입력하세요. >>'))\n",
    "keyMask = 27182818 # 키로 사용할 정수 하나를 저장\n",
    "encPwd = orgPwd ^ keyMask\n",
    "print('입력한 id: %d' % orgPwd)\n",
    "print('암호화해 저장된 id: %d' % encPwd)\n",
    "inPwd = int(input('로그인할 id를 입력하세요 >>'))\n",
    "result = encPwd ^ keyMask \n",
    "print('로그인 성공: {}'.format(inPwd == result))"
   ]
  },
  {
   "cell_type": "code",
   "execution_count": null,
   "metadata": {},
   "outputs": [],
   "source": []
  }
 ],
 "metadata": {
  "kernelspec": {
   "display_name": "Python 3",
   "language": "python",
   "name": "python3"
  },
  "language_info": {
   "codemirror_mode": {
    "name": "ipython",
    "version": 3
   },
   "file_extension": ".py",
   "mimetype": "text/x-python",
   "name": "python",
   "nbconvert_exporter": "python",
   "pygments_lexer": "ipython3",
   "version": "3.10.4"
  },
  "orig_nbformat": 4
 },
 "nbformat": 4,
 "nbformat_minor": 2
}
